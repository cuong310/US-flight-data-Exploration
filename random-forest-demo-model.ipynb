{
 "cells": [
  {
   "cell_type": "code",
   "execution_count": 1,
   "id": "9be2e1ee",
   "metadata": {
    "_kg_hide-output": true,
    "execution": {
     "iopub.execute_input": "2023-06-23T00:08:56.368889Z",
     "iopub.status.busy": "2023-06-23T00:08:56.366882Z",
     "iopub.status.idle": "2023-06-23T00:08:59.133006Z",
     "shell.execute_reply": "2023-06-23T00:08:59.131021Z"
    },
    "papermill": {
     "duration": 2.775052,
     "end_time": "2023-06-23T00:08:59.135388",
     "exception": false,
     "start_time": "2023-06-23T00:08:56.360336",
     "status": "completed"
    },
    "tags": []
   },
   "outputs": [
    {
     "name": "stderr",
     "output_type": "stream",
     "text": [
      "\n",
      "Attaching package: ‘dplyr’\n",
      "\n",
      "\n",
      "The following objects are masked from ‘package:stats’:\n",
      "\n",
      "    filter, lag\n",
      "\n",
      "\n",
      "The following objects are masked from ‘package:base’:\n",
      "\n",
      "    intersect, setdiff, setequal, union\n",
      "\n",
      "\n",
      "── \u001b[1mAttaching packages\u001b[22m ─────────────────────────────────────── tidyverse 1.3.1 ──\n",
      "\n",
      "\u001b[32m✔\u001b[39m \u001b[34mtibble \u001b[39m 3.1.6     \u001b[32m✔\u001b[39m \u001b[34mpurrr  \u001b[39m 0.3.4\n",
      "\u001b[32m✔\u001b[39m \u001b[34mtidyr  \u001b[39m 1.2.0     \u001b[32m✔\u001b[39m \u001b[34mforcats\u001b[39m 0.5.1\n",
      "\u001b[32m✔\u001b[39m \u001b[34mreadr  \u001b[39m 2.1.2     \n",
      "\n",
      "── \u001b[1mConflicts\u001b[22m ────────────────────────────────────────── tidyverse_conflicts() ──\n",
      "\u001b[31m✖\u001b[39m \u001b[34mreadr\u001b[39m::\u001b[32mcol_factor()\u001b[39m masks \u001b[34mscales\u001b[39m::col_factor()\n",
      "\u001b[31m✖\u001b[39m \u001b[34mpurrr\u001b[39m::\u001b[32mdiscard()\u001b[39m    masks \u001b[34mscales\u001b[39m::discard()\n",
      "\u001b[31m✖\u001b[39m \u001b[34mtidyr\u001b[39m::\u001b[32mextract()\u001b[39m    masks \u001b[34mmagrittr\u001b[39m::extract()\n",
      "\u001b[31m✖\u001b[39m \u001b[34mdplyr\u001b[39m::\u001b[32mfilter()\u001b[39m     masks \u001b[34mstats\u001b[39m::filter()\n",
      "\u001b[31m✖\u001b[39m \u001b[34mdplyr\u001b[39m::\u001b[32mlag()\u001b[39m        masks \u001b[34mstats\u001b[39m::lag()\n",
      "\u001b[31m✖\u001b[39m \u001b[34mpurrr\u001b[39m::\u001b[32mset_names()\u001b[39m  masks \u001b[34mmagrittr\u001b[39m::set_names()\n",
      "\n",
      "Loading required package: randomForest\n",
      "\n",
      "randomForest 4.6-14\n",
      "\n",
      "Type rfNews() to see new features/changes/bug fixes.\n",
      "\n",
      "\n",
      "Attaching package: ‘randomForest’\n",
      "\n",
      "\n",
      "The following object is masked from ‘package:ggplot2’:\n",
      "\n",
      "    margin\n",
      "\n",
      "\n",
      "The following object is masked from ‘package:dplyr’:\n",
      "\n",
      "    combine\n",
      "\n",
      "\n",
      "Loading required package: gbm\n",
      "\n",
      "Loaded gbm 2.1.8\n",
      "\n",
      "Loading required package: plyr\n",
      "\n",
      "------------------------------------------------------------------------------\n",
      "\n",
      "You have loaded plyr after dplyr - this is likely to cause problems.\n",
      "If you need functions from both plyr and dplyr, please load plyr first, then dplyr:\n",
      "library(plyr); library(dplyr)\n",
      "\n",
      "------------------------------------------------------------------------------\n",
      "\n",
      "\n",
      "Attaching package: ‘plyr’\n",
      "\n",
      "\n",
      "The following object is masked from ‘package:purrr’:\n",
      "\n",
      "    compact\n",
      "\n",
      "\n",
      "The following objects are masked from ‘package:dplyr’:\n",
      "\n",
      "    arrange, count, desc, failwith, id, mutate, rename, summarise,\n",
      "    summarize\n",
      "\n",
      "\n",
      "Loading required package: data.table\n",
      "\n",
      "\n",
      "Attaching package: ‘data.table’\n",
      "\n",
      "\n",
      "The following object is masked from ‘package:purrr’:\n",
      "\n",
      "    transpose\n",
      "\n",
      "\n",
      "The following objects are masked from ‘package:dplyr’:\n",
      "\n",
      "    between, first, last\n",
      "\n",
      "\n"
     ]
    }
   ],
   "source": [
    "# Importing the libraries we need\n",
    "library(dplyr)\n",
    "library(ggplot2)\n",
    "library(scales)\n",
    "library(stringr)\n",
    "library(magrittr)\n",
    "library(tidyverse)\n",
    "library(purrr)\n",
    "require(randomForest)\n",
    "require(gbm)\n",
    "require(plyr)\n",
    "require(data.table)\n",
    "# require(rhdfs)\n",
    "# library(maps)\n",
    "# library(mapproj)\n",
    "# library(usdata)\n",
    "# library(ggrepel)\n",
    "# library(tidyverse)\n",
    "# library(ggforce)\n",
    "# library(ggthemes)\n",
    "# library(usmap)\n",
    "# devtools::install_github(\"UrbanInstitute/urbnmapr\")\n",
    "# library(urbnmapr)\n",
    "# library(egg)\n",
    "# library(treemapify)\n",
    "# library(ggridges)"
   ]
  },
  {
   "cell_type": "code",
   "execution_count": 2,
   "id": "4d5a56f8",
   "metadata": {
    "execution": {
     "iopub.execute_input": "2023-06-23T00:08:59.190653Z",
     "iopub.status.busy": "2023-06-23T00:08:59.148484Z",
     "iopub.status.idle": "2023-06-23T00:09:42.539568Z",
     "shell.execute_reply": "2023-06-23T00:09:42.537658Z"
    },
    "papermill": {
     "duration": 43.400699,
     "end_time": "2023-06-23T00:09:42.542047",
     "exception": false,
     "start_time": "2023-06-23T00:08:59.141348",
     "status": "completed"
    },
    "tags": []
   },
   "outputs": [
    {
     "name": "stderr",
     "output_type": "stream",
     "text": [
      "\u001b[1mRows: \u001b[22m\u001b[34m7453216\u001b[39m \u001b[1mColumns: \u001b[22m\u001b[34m29\u001b[39m\n",
      "\u001b[36m──\u001b[39m \u001b[1mColumn specification\u001b[22m \u001b[36m────────────────────────────────────────────────────────\u001b[39m\n",
      "\u001b[1mDelimiter:\u001b[22m \",\"\n",
      "\u001b[31mchr\u001b[39m (29): year, month, day, dow, DepTime, CRSDepTime, ArrTime, CRSArrTime, C...\n",
      "\n",
      "\u001b[36mℹ\u001b[39m Use `spec()` to retrieve the full column specification for this data.\n",
      "\u001b[36mℹ\u001b[39m Specify the column types or set `show_col_types = FALSE` to quiet this message.\n"
     ]
    },
    {
     "name": "stdout",
     "output_type": "stream",
     "text": [
      "[1] 7453216      29\n"
     ]
    }
   ],
   "source": [
    "cols = c('year', 'month', 'day', 'dow', 'DepTime', 'CRSDepTime', 'ArrTime', 'CRSArrTime','Carrier', 'FlightNum', 'TailNum', \n",
    "         'ActualElapsedTime', 'CRSElapsedTime', 'AirTime', 'ArrDelay', 'DepDelay', 'Origin', 'Dest', 'Distance', 'TaxiIn', \n",
    "         'TaxiOut', 'Cancelled', 'CancellationCode', 'Diverted', 'CarrierDelay', 'WeatherDelay', 'NASDelay', 'SecurityDelay', \n",
    "         'LateAircraftDelay');\n",
    "flt_2007 = read_csv('/kaggle/input/data-expo-2009-airline-on-time-data/2007.csv', cols)\n",
    "\n",
    "print(dim(flt_2007))"
   ]
  },
  {
   "cell_type": "code",
   "execution_count": 3,
   "id": "81995b03",
   "metadata": {
    "execution": {
     "iopub.execute_input": "2023-06-23T00:09:42.556828Z",
     "iopub.status.busy": "2023-06-23T00:09:42.555273Z",
     "iopub.status.idle": "2023-06-23T00:09:44.177071Z",
     "shell.execute_reply": "2023-06-23T00:09:44.175169Z"
    },
    "papermill": {
     "duration": 1.631428,
     "end_time": "2023-06-23T00:09:44.179544",
     "exception": false,
     "start_time": "2023-06-23T00:09:42.548116",
     "status": "completed"
    },
    "tags": []
   },
   "outputs": [
    {
     "name": "stdout",
     "output_type": "stream",
     "text": [
      "[1] \"total flights: 359169\"\n",
      "[1] \"total delays: 109346\"\n"
     ]
    }
   ],
   "source": [
    "df1 = flt_2007[which(flt_2007$Origin == 'ORD' & !is.na(flt_2007$DepDelay)),]\n",
    "df1$DepDelay = sapply(df1$DepDelay, function(x) (if (as.numeric(x)>=15) 1 else 0))\n",
    "\n",
    "print(paste0(\"total flights: \", as.character(dim(df1)[1])))\n",
    "print(paste0(\"total delays: \", as.character(sum(df1$DepDelay))))"
   ]
  },
  {
   "cell_type": "code",
   "execution_count": 4,
   "id": "4ce9ef1a",
   "metadata": {
    "execution": {
     "iopub.execute_input": "2023-06-23T00:09:44.193948Z",
     "iopub.status.busy": "2023-06-23T00:09:44.192380Z",
     "iopub.status.idle": "2023-06-23T00:09:44.588792Z",
     "shell.execute_reply": "2023-06-23T00:09:44.587091Z"
    },
    "papermill": {
     "duration": 0.405741,
     "end_time": "2023-06-23T00:09:44.590956",
     "exception": false,
     "start_time": "2023-06-23T00:09:44.185215",
     "status": "completed"
    },
    "tags": []
   },
   "outputs": [
    {
     "data": {
      "image/png": "[encoded data removed]"
     },
     "metadata": {
      "image/png": {
       "height": 420,
       "width": 420
      }
     },
     "output_type": "display_data"
    }
   ],
   "source": [
    "df2 = df1[, c('DepDelay', 'month'), with=F]\n",
    "df2$month = as.numeric(df2$month)\n",
    "df2 <- ddply(df2, .(month), summarise, mean_delay=mean(DepDelay))\n",
    "barplot(df2$mean_delay, names.arg=df2$month, xlab=\"month\", ylab=\"% of delays\", col=\"blue\")"
   ]
  },
  {
   "cell_type": "code",
   "execution_count": 5,
   "id": "f0591ffd",
   "metadata": {
    "execution": {
     "iopub.execute_input": "2023-06-23T00:09:44.607292Z",
     "iopub.status.busy": "2023-06-23T00:09:44.605773Z",
     "iopub.status.idle": "2023-06-23T00:09:47.644846Z",
     "shell.execute_reply": "2023-06-23T00:09:47.643038Z"
    },
    "papermill": {
     "duration": 3.050446,
     "end_time": "2023-06-23T00:09:47.647330",
     "exception": false,
     "start_time": "2023-06-23T00:09:44.596884",
     "status": "completed"
    },
    "tags": []
   },
   "outputs": [
    {
     "data": {
      "image/png": "[encoded data removed]"
     },
     "metadata": {
      "image/png": {
       "height": 420,
       "width": 420
      }
     },
     "output_type": "display_data"
    }
   ],
   "source": [
    "# Extract hour of day from 3 or 4 digit time-of-day string\n",
    "get_hour <- function(x) { \n",
    "  s = sprintf(\"%04d\", as.numeric(x))\n",
    "  return(substr(s, 1, 2))\n",
    "}\n",
    "\n",
    "df2 = df1[, c('DepDelay', 'CRSDepTime'), with=F]\n",
    "df2$hour = as.numeric(sapply(df2$CRSDepTime, get_hour))\n",
    "df2$CRSDepTime <- NULL\n",
    "df2 <- ddply(df2, .(hour), summarise, mean_delay=mean(DepDelay))\n",
    "barplot(df2$mean_delay, names.arg=df2$hour, xlab=\"hour of day\", ylab=\"% of delays\", col=\"green\")"
   ]
  },
  {
   "cell_type": "code",
   "execution_count": 6,
   "id": "f7c697bc",
   "metadata": {
    "execution": {
     "iopub.execute_input": "2023-06-23T00:09:47.663662Z",
     "iopub.status.busy": "2023-06-23T00:09:47.662116Z",
     "iopub.status.idle": "2023-06-23T00:09:47.677165Z",
     "shell.execute_reply": "2023-06-23T00:09:47.675334Z"
    },
    "papermill": {
     "duration": 0.02633,
     "end_time": "2023-06-23T00:09:47.680264",
     "exception": false,
     "start_time": "2023-06-23T00:09:47.653934",
     "status": "completed"
    },
    "tags": []
   },
   "outputs": [],
   "source": [
    "# # Define the input and output schemas\n",
    "# input_schema <- list(\n",
    "#   Year = \"character\",\n",
    "#   Month = \"character\",\n",
    "#   DayofMonth = \"character\",\n",
    "#   DayOfWeek = \"character\",\n",
    "#   DepTime = \"character\",\n",
    "#   CRSDepTime = \"character\",\n",
    "#   DepDelay = \"character\",\n",
    "#   Origin = \"character\",\n",
    "#   Distance = \"character\",\n",
    "#   Cancelled = \"character\"\n",
    "# )\n",
    "# output_schema <- list(\n",
    "#   flight_date = \"character\",\n",
    "#   y = \"integer\",\n",
    "#   m = \"integer\",\n",
    "#   dm = \"integer\",\n",
    "#   dw = \"integer\",\n",
    "#   crs = \"integer\",\n",
    "#   dep = \"integer\",\n",
    "#   dist = \"integer\"\n",
    "# )\n",
    "\n",
    "# # Define the holidays\n",
    "# holidays <- c(\"01/01/2007\", \"01/15/2007\", \"02/19/2007\", \"05/28/2007\", \"06/07/2007\", \"07/04/2007\",\n",
    "#                \"09/03/2007\", \"10/08/2007\", \"11/11/2007\", \"11/22/2007\", \"12/25/2007\",\n",
    "#                \"01/01/2008\", \"01/21/2008\", \"02/18/2008\", \"05/22/2008\", \"05/26/2008\", \"07/04/2008\",\n",
    "#                \"09/01/2008\", \"10/13/2008\", \"11/11/2008\", \"11/27/2008\", \"12/25/2008\")\n",
    "\n",
    "# # Define the functions\n",
    "# get_hour <- function(deptime) {\n",
    "#   paste0(\"%04d\", deptime, 2)\n",
    "# }\n",
    "\n",
    "# to_date <- function(year, month, day) {\n",
    "#   sprintf(\"%04d%02d%02d\", year, month, day)\n",
    "# }\n",
    "\n",
    "# days_from_nearest_holiday <- function(year, month, day) {\n",
    "#   sample_date <- as.Date(sprintf(\"%04d-%02d-%02d\", year, month, day))\n",
    "\n",
    "#   holidays %>% purrr::map_dbl(~abs(as.Date(.x) - sample_date)) %>% min()\n",
    "# }\n",
    "\n",
    "# # gen_features <- function(tuple) {\n",
    "# #   {\n",
    "# #     to_date(data$Year, data$Month, data$DayofMonth),\n",
    "# #     data$DepDelay,\n",
    "# #     data$Month,\n",
    "# #     data$DayofMonth,\n",
    "# #     data$DayOfWeek,\n",
    "# #     get_hour(data$CRSDepTime),\n",
    "# #     data$Distance,\n",
    "# #     days_from_nearest_holiday(data$Year, data$Month, data$DayofMonth)\n",
    "# #   }\n",
    "# # }\n",
    "\n",
    "# # Read the data\n",
    "# data <- read.csv(\"/kaggle/input/data-expo-2009-airline-on-time-data/2007.csv\", header = TRUE, sep = \",\", stringsAsFactors = FALSE) %>%\n",
    "#   dplyr::select(one_of(names(input_schema)))\n",
    "\n",
    "# # Filter the data\n",
    "# # data <- data %>% filter(Origin == \"ORD\" & Cancelled == \"0\")\n",
    "\n",
    "# # Generate the features\n",
    "# features <- data %>% purrr::pmap({\n",
    "#     to_date(data$Year, data$Month, data$DayofMonth);\n",
    "#     data$DepDelay;\n",
    "#     data$Month;\n",
    "#     data$DayofMonth;\n",
    "#     data$DayOfWeek;\n",
    "#     get_hour(data$CRSDepTime);\n",
    "#     data$Distance;\n",
    "#     days_from_nearest_holiday(data$Year, data$Month, data$DayofMonth)\n",
    "#   }, .default = NA)\n",
    "\n",
    "# # Write the features to a file\n",
    "# write.csv(features, \"sample_2007.csv\", row.names = FALSE)"
   ]
  },
  {
   "cell_type": "code",
   "execution_count": 7,
   "id": "8180764c",
   "metadata": {
    "execution": {
     "iopub.execute_input": "2023-06-23T00:09:47.697077Z",
     "iopub.status.busy": "2023-06-23T00:09:47.695457Z",
     "iopub.status.idle": "2023-06-23T00:09:47.709158Z",
     "shell.execute_reply": "2023-06-23T00:09:47.707348Z"
    },
    "papermill": {
     "duration": 0.025586,
     "end_time": "2023-06-23T00:09:47.712295",
     "exception": false,
     "start_time": "2023-06-23T00:09:47.686709",
     "status": "completed"
    },
    "tags": []
   },
   "outputs": [],
   "source": [
    "# input_schema <- list(\n",
    "#   Year = \"character\",\n",
    "#   Month = \"character\",\n",
    "#   DayofMonth = \"character\",\n",
    "#   DayOfWeek = \"character\",\n",
    "#   CRSDepTime = \"character\",\n",
    "#   Origin = \"character\",\n",
    "#   Dest = \"character\",\n",
    "#   Distance = \"character\"\n",
    "# )\n",
    "\n",
    "# data <- read.csv(\"/kaggle/input/data-expo-2009-airline-on-time-data/2007.csv\", header = TRUE, sep = \",\", stringsAsFactors = FALSE) %>%\n",
    "#   dplyr::select(one_of(names(input_schema)))\n"
   ]
  },
  {
   "cell_type": "code",
   "execution_count": 8,
   "id": "56376e10",
   "metadata": {
    "execution": {
     "iopub.execute_input": "2023-06-23T00:09:47.728711Z",
     "iopub.status.busy": "2023-06-23T00:09:47.727113Z",
     "iopub.status.idle": "2023-06-23T00:09:47.740250Z",
     "shell.execute_reply": "2023-06-23T00:09:47.738510Z"
    },
    "papermill": {
     "duration": 0.024491,
     "end_time": "2023-06-23T00:09:47.743327",
     "exception": false,
     "start_time": "2023-06-23T00:09:47.718836",
     "status": "completed"
    },
    "tags": []
   },
   "outputs": [],
   "source": [
    "# data$origin <- as.numeric(factor(data$Origin))\n",
    "# data"
   ]
  },
  {
   "cell_type": "code",
   "execution_count": 9,
   "id": "fc8a0d54",
   "metadata": {
    "execution": {
     "iopub.execute_input": "2023-06-23T00:09:47.760175Z",
     "iopub.status.busy": "2023-06-23T00:09:47.758460Z",
     "iopub.status.idle": "2023-06-23T00:11:50.330045Z",
     "shell.execute_reply": "2023-06-23T00:11:50.328127Z"
    },
    "papermill": {
     "duration": 122.583785,
     "end_time": "2023-06-23T00:11:50.333657",
     "exception": false,
     "start_time": "2023-06-23T00:09:47.749872",
     "status": "completed"
    },
    "tags": []
   },
   "outputs": [],
   "source": [
    "# Function to compute Precision, Recall and F1-Measure\n",
    "get_metrics <- function(predicted, actual) {\n",
    "  tp = length(which(predicted == TRUE & actual == TRUE))\n",
    "  tn = length(which(predicted == FALSE & actual == FALSE))\n",
    "  fp = length(which(predicted == TRUE & actual == FALSE))\n",
    "  fn = length(which(predicted == FALSE & actual == TRUE))\n",
    "\n",
    "  precision = tp / (tp+fp)\n",
    "  recall = tp / (tp+fn)\n",
    "  F1 = 2*precision*recall / (precision+recall)\n",
    "  accuracy = (tp+tn) / (tp+tn+fp+fn)\n",
    "  \n",
    "  v = c(precision, recall, F1, accuracy)\n",
    "  v\n",
    "}\n",
    "\n",
    "# Read input files\n",
    "process_dataset <- function(filename) {\n",
    "  cols = c('Year', 'Month', 'DayofMonth', 'DayOfWeek',\n",
    "           'CSRDepTime','DepDelay', 'Origin','Dest', 'Distance')\n",
    "    \n",
    "  data = read.csv(filename)\n",
    "  data <- select(data, Year, Month, DayofMonth, DayOfWeek, CRSDepTime,DepDelay, Origin,Dest, Distance)\n",
    "  data <- data %>% mutate(DepDelay = replace_na(DepDelay, 1000))\n",
    "  data$DepDelay = as.factor(as.numeric(data$DepDelay) >= 15)\n",
    "  data$Year = as.factor(data$Year)\n",
    "  data$Month = as.factor(data$Month)\n",
    "  data$DayofMonth = as.factor(data$DayofMonth)\n",
    "  data$DayOfWeek = as.factor(data$DayOfWeek)\n",
    "  data$Origin = as.integer(factor(data$Origin))\n",
    "  data$Dest = as.integer(factor(data$Dest))\n",
    "  data$CRSDepTime = as.numeric(data$CRSDepTime)\n",
    "  data$Distance = as.numeric(data$Distance)\n",
    "  data\n",
    "}\n",
    "\n",
    "# Prepare training set and test/validation set\n",
    "\n",
    "data_2007 = process_dataset('/kaggle/input/data-expo-2009-airline-on-time-data/2007.csv')\n",
    "data_2008 = process_dataset('/kaggle/input/data-expo-2009-airline-on-time-data/2007.csv')\n",
    "\n",
    "train_y = data_2007$DepDelay\n",
    "train_x = select(data_2007, Year, Month, DayofMonth, DayOfWeek, CRSDepTime, Origin,Dest, Distance)\n",
    "\n",
    "test_y = data_2008$DepDelay\n",
    "test_x = select(data_2008, Year, Month, DayofMonth, DayOfWeek, CRSDepTime, Origin,Dest, Distance)"
   ]
  },
  {
   "cell_type": "code",
   "execution_count": 10,
   "id": "b3edde5e",
   "metadata": {
    "execution": {
     "iopub.execute_input": "2023-06-23T00:11:50.354928Z",
     "iopub.status.busy": "2023-06-23T00:11:50.353302Z",
     "iopub.status.idle": "2023-06-23T00:11:50.374666Z",
     "shell.execute_reply": "2023-06-23T00:11:50.372483Z"
    },
    "papermill": {
     "duration": 0.033645,
     "end_time": "2023-06-23T00:11:50.377753",
     "exception": false,
     "start_time": "2023-06-23T00:11:50.344108",
     "status": "completed"
    },
    "tags": []
   },
   "outputs": [
    {
     "data": {
      "text/html": [
       "7453215"
      ],
      "text/latex": [
       "7453215"
      ],
      "text/markdown": [
       "7453215"
      ],
      "text/plain": [
       "[1] 7453215"
      ]
     },
     "metadata": {},
     "output_type": "display_data"
    }
   ],
   "source": [
    "length(train_y)"
   ]
  },
  {
   "cell_type": "code",
   "execution_count": 11,
   "id": "79e7834d",
   "metadata": {
    "execution": {
     "iopub.execute_input": "2023-06-23T00:11:50.394462Z",
     "iopub.status.busy": "2023-06-23T00:11:50.392883Z",
     "iopub.status.idle": "2023-06-23T00:11:50.411928Z",
     "shell.execute_reply": "2023-06-23T00:11:50.409811Z"
    },
    "papermill": {
     "duration": 0.030387,
     "end_time": "2023-06-23T00:11:50.414779",
     "exception": false,
     "start_time": "2023-06-23T00:11:50.384392",
     "status": "completed"
    },
    "tags": []
   },
   "outputs": [
    {
     "data": {
      "text/html": [
       "<style>\n",
       ".list-inline {list-style: none; margin:0; padding: 0}\n",
       ".list-inline>li {display: inline-block}\n",
       ".list-inline>li:not(:last-child)::after {content: \"\\00b7\"; padding: 0 .5ex}\n",
       "</style>\n",
       "<ol class=list-inline><li>7453215</li><li>8</li></ol>\n"
      ],
      "text/latex": [
       "\\begin{enumerate*}\n",
       "\\item 7453215\n",
       "\\item 8\n",
       "\\end{enumerate*}\n"
      ],
      "text/markdown": [
       "1. 7453215\n",
       "2. 8\n",
       "\n",
       "\n"
      ],
      "text/plain": [
       "[1] 7453215       8"
      ]
     },
     "metadata": {},
     "output_type": "display_data"
    }
   ],
   "source": [
    "dim(train_x)"
   ]
  },
  {
   "cell_type": "code",
   "execution_count": 12,
   "id": "7c0e53d5",
   "metadata": {
    "execution": {
     "iopub.execute_input": "2023-06-23T00:11:50.431797Z",
     "iopub.status.busy": "2023-06-23T00:11:50.430227Z",
     "iopub.status.idle": "2023-06-23T00:18:33.233108Z",
     "shell.execute_reply": "2023-06-23T00:18:33.231370Z"
    },
    "papermill": {
     "duration": 402.816835,
     "end_time": "2023-06-23T00:18:33.238376",
     "exception": false,
     "start_time": "2023-06-23T00:11:50.421541",
     "status": "completed"
    },
    "tags": []
   },
   "outputs": [
    {
     "name": "stdout",
     "output_type": "stream",
     "text": [
      "[1] \"Random Forest: precision=0.84, recall=0.25, F1=0.38, accuracy=0.81\"\n"
     ]
    },
    {
     "data": {
      "text/plain": [
       "   user  system elapsed \n",
       "387.934  14.101 402.082 "
      ]
     },
     "metadata": {},
     "output_type": "display_data"
    }
   ],
   "source": [
    "system.time({\n",
    "    rf.model = randomForest(train_x, train_y, ntree=10)\n",
    "rf.pr <- predict(rf.model, newdata=test_x)\n",
    "m.rf = get_metrics(as.logical(rf.pr), as.logical(test_y))\n",
    "print(sprintf(\"Random Forest: precision=%0.2f, recall=%0.2f, F1=%0.2f, accuracy=%0.2f\", m.rf[1], m.rf[2], m.rf[3], m.rf[4]))\n",
    "})"
   ]
  },
  {
   "cell_type": "code",
   "execution_count": 13,
   "id": "7564260a",
   "metadata": {
    "execution": {
     "iopub.execute_input": "2023-06-23T00:18:33.278485Z",
     "iopub.status.busy": "2023-06-23T00:18:33.276867Z",
     "iopub.status.idle": "2023-06-23T00:51:14.380742Z",
     "shell.execute_reply": "2023-06-23T00:51:14.378761Z"
    },
    "papermill": {
     "duration": 1961.143949,
     "end_time": "2023-06-23T00:51:14.389157",
     "exception": false,
     "start_time": "2023-06-23T00:18:33.245208",
     "status": "completed"
    },
    "tags": []
   },
   "outputs": [
    {
     "name": "stdout",
     "output_type": "stream",
     "text": [
      "[1] \"Gradient Boosted Machines: precision=0.53, recall=0.04, F1=0.08, accuracy=0.77\"\n"
     ]
    },
    {
     "data": {
      "text/plain": [
       "    user   system  elapsed \n",
       "1953.496    5.462 1959.032 "
      ]
     },
     "metadata": {},
     "output_type": "display_data"
    }
   ],
   "source": [
    "system.time({\n",
    "train_x <- train_x %>% select(-Year)\n",
    "test_x <- test_x %>% select(-Year)\n",
    "gbm.model <- gbm.fit(train_x, as.numeric(train_y)-1, n.trees=300, verbose=F, shrinkage=0.01, distribution=\"bernoulli\", \n",
    "                     interaction.depth=3, n.minobsinnode=30)\n",
    "gbm.pr <- predict(gbm.model, newdata=test_x, n.trees= 300, type=\"response\")\n",
    "m.gbm = get_metrics(gbm.pr >= 0.4, as.logical(test_y))\n",
    "print(sprintf(\"Gradient Boosted Machines: precision=%0.2f, recall=%0.2f, F1=%0.2f, accuracy=%0.2f\", m.gbm[1], m.gbm[2], m.gbm[3], m.gbm[4]))\n",
    "})"
   ]
  },
  {
   "cell_type": "code",
   "execution_count": 14,
   "id": "dcbc9ba3",
   "metadata": {
    "execution": {
     "iopub.execute_input": "2023-06-23T00:51:14.584814Z",
     "iopub.status.busy": "2023-06-23T00:51:14.582944Z",
     "iopub.status.idle": "2023-06-23T00:51:18.722517Z",
     "shell.execute_reply": "2023-06-23T00:51:18.720813Z"
    },
    "papermill": {
     "duration": 4.325078,
     "end_time": "2023-06-23T00:51:18.724836",
     "exception": false,
     "start_time": "2023-06-23T00:51:14.399758",
     "status": "completed"
    },
    "tags": []
   },
   "outputs": [
    {
     "data": {
      "text/html": [
       "0.232528244522666"
      ],
      "text/latex": [
       "0.232528244522666"
      ],
      "text/markdown": [
       "0.232528244522666"
      ],
      "text/plain": [
       "[1] 0.2325282"
      ]
     },
     "metadata": {},
     "output_type": "display_data"
    }
   ],
   "source": [
    "t = 0\n",
    "f = 0\n",
    "for (i in test_y){\n",
    "    if (i == TRUE){\n",
    "        t = t+1\n",
    "    }\n",
    "    else{\n",
    "        f = f +1\n",
    "    }\n",
    "}\n",
    "\n",
    "t/(f+t)"
   ]
  },
  {
   "cell_type": "code",
   "execution_count": null,
   "id": "ab39fbac",
   "metadata": {
    "papermill": {
     "duration": 0.008014,
     "end_time": "2023-06-23T00:51:18.741495",
     "exception": false,
     "start_time": "2023-06-23T00:51:18.733481",
     "status": "completed"
    },
    "tags": []
   },
   "outputs": [],
   "source": []
  }
 ],
 "metadata": {
  "kernelspec": {
   "display_name": "R",
   "language": "R",
   "name": "ir"
  },
  "language_info": {
   "codemirror_mode": "r",
   "file_extension": ".r",
   "mimetype": "text/x-r-source",
   "name": "R",
   "pygments_lexer": "r",
   "version": "4.0.5"
  },
  "papermill": {
   "default_parameters": {},
   "duration": 2546.499897,
   "end_time": "2023-06-23T00:51:19.474932",
   "environment_variables": {},
   "exception": null,
   "input_path": "__notebook__.ipynb",
   "output_path": "__notebook__.ipynb",
   "parameters": {},
   "start_time": "2023-06-23T00:08:52.975035",
   "version": "2.3.4"
  }
 },
 "nbformat": 4,
 "nbformat_minor": 5
}
